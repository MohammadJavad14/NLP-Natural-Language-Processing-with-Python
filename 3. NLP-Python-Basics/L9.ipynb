{
 "cells": [
  {
   "cell_type": "code",
   "execution_count": 1,
   "id": "ec955d4e",
   "metadata": {},
   "outputs": [],
   "source": [
    "import spacy"
   ]
  },
  {
   "cell_type": "code",
   "execution_count": 2,
   "id": "56586a5e",
   "metadata": {},
   "outputs": [],
   "source": [
    "nlp = spacy.load('en_core_web_sm')"
   ]
  },
  {
   "cell_type": "code",
   "execution_count": 3,
   "id": "da810427",
   "metadata": {},
   "outputs": [
    {
     "name": "stdout",
     "output_type": "stream",
     "text": [
      "{'therefore', 'while', '’d', 'if', 'perhaps', 'bottom', 'besides', 'it', 'were', 'anyhow', 'she', 'behind', 'more', 'across', 'in', 'might', 'wherein', 'another', 'because', 'hereupon', 'else', 'how', 'thus', 'anyway', 'back', 'i', 'me', 'next', 'please', 'name', 'nevertheless', 'show', 'side', 'towards', \"'re\", 'that', 'serious', 'into', 'formerly', 'itself', 'this', 'alone', 'noone', 'but', 'what', 'be', 'up', 'between', 'together', 'hereby', 'not', 'nor', 'forty', 'quite', 'becoming', 'whoever', 'twelve', 'out', 'throughout', 'used', 'other', 'himself', 'whereas', 'onto', 'becomes', 'down', \"'ll\", 'during', 'under', 'been', 'are', 'our', 'get', 'sometimes', 'about', '‘ll', 'them', 'beyond', 'or', 'my', 'by', 'without', 'those', 'at', 'ever', 'latter', 'several', 'thence', 'will', 'per', 'both', 'keep', 'against', 'him', 'four', 'became', 'mine', 'twenty', 'which', 'fifteen', '‘m', 'n’t', 'have', 'we', 'even', 'less', 'somehow', 'before', 'rather', \"'ve\", 'again', 'was', 'sixty', 'their', 'thereafter', '‘s', 'last', 'seems', 'on', 'such', 'regarding', 'meanwhile', 'above', 'unless', 'whereby', 'anything', 'from', 'call', 'using', 'through', 'whatever', '‘ve', 'whereafter', '’ll', '‘d', 'myself', 'either', 'take', 'here', '‘re', 'upon', 'full', 'its', 'everyone', 'first', 'beside', 'put', 'front', 'thru', 'eleven', 'anywhere', 'seem', 'five', 'nothing', 'and', 'never', 'someone', 'ca', 'below', 'least', 'toward', 'when', 'others', 'cannot', 'ten', 'doing', 'why', 'since', 'being', 'an', 'along', 'of', 'for', 'otherwise', 'same', 'hereafter', 'whenever', 'do', 'as', 'done', 'hers', 'yourself', \"'d\", 'n‘t', 'six', 'no', 'give', 'whom', 'mostly', 'just', 'is', 'whence', 'everywhere', 'all', \"'s\", 'almost', 'he', '’ve', 'until', 'a', 'among', 'part', 'over', 'the', 'due', 'amongst', 'enough', 'once', 'indeed', 'thereupon', 'had', 'herein', 'neither', 'now', 'to', 'nine', 'still', 'whither', 'various', 'somewhere', 'elsewhere', 'therein', 'some', 'themselves', 'thereby', 'did', 'really', 'anyone', 'within', 'say', 'move', 'am', 'beforehand', 'see', 'ourselves', 'often', 'does', 'whether', 'nobody', 'nowhere', 'yourselves', 'can', 'many', 'every', 'should', 're', 'would', 'go', 'become', 'none', 'they', 'than', 'although', 'then', 'most', 'his', 'made', 'something', 'everything', 'via', 'own', 'sometime', 'could', \"'m\", 'fifty', 'latterly', '’s', 'whereupon', 'seemed', 'one', 'around', 'only', 'wherever', 'whole', 'ours', 'moreover', \"n't\", 'eight', 'so', 'has', 'with', 'third', '’m', 'except', 'further', 'must', 'after', 'herself', 'where', 'empty', 'seeming', 'afterwards', 'former', 'any', 'hence', 'also', 'you', 'namely', 'your', 'us', 'however', 'top', 'yet', 'well', 'off', 'her', 'much', 'few', 'each', 'though', 'always', 'amount', 'make', '’re', 'there', 'very', 'too', 'already', 'these', 'yours', 'three', 'may', 'two', 'hundred', 'whose', 'who'}\n"
     ]
    }
   ],
   "source": [
    "print(nlp.Defaults.stop_words)"
   ]
  },
  {
   "cell_type": "code",
   "execution_count": 4,
   "id": "2d09ee58",
   "metadata": {},
   "outputs": [
    {
     "data": {
      "text/plain": [
       "326"
      ]
     },
     "execution_count": 4,
     "metadata": {},
     "output_type": "execute_result"
    }
   ],
   "source": [
    "len(nlp.Defaults.stop_words)"
   ]
  },
  {
   "cell_type": "code",
   "execution_count": 7,
   "id": "4b3fb7fb",
   "metadata": {},
   "outputs": [
    {
     "data": {
      "text/plain": [
       "False"
      ]
     },
     "execution_count": 7,
     "metadata": {},
     "output_type": "execute_result"
    }
   ],
   "source": [
    "nlp.vocab['mystery'].is_stop"
   ]
  },
  {
   "cell_type": "code",
   "execution_count": 8,
   "id": "734ca7a4",
   "metadata": {},
   "outputs": [],
   "source": [
    "nlp.Defaults.stop_words.add('btw')"
   ]
  },
  {
   "cell_type": "code",
   "execution_count": 9,
   "id": "abb8667d",
   "metadata": {},
   "outputs": [],
   "source": [
    "nlp.vocab['btw'].is_stop = True"
   ]
  },
  {
   "cell_type": "code",
   "execution_count": 10,
   "id": "b9615319",
   "metadata": {},
   "outputs": [
    {
     "data": {
      "text/plain": [
       "327"
      ]
     },
     "execution_count": 10,
     "metadata": {},
     "output_type": "execute_result"
    }
   ],
   "source": [
    "len(nlp.Defaults.stop_words)"
   ]
  },
  {
   "cell_type": "code",
   "execution_count": 11,
   "id": "52eda53d",
   "metadata": {},
   "outputs": [],
   "source": [
    "nlp.Defaults.stop_words.remove('beyond')"
   ]
  },
  {
   "cell_type": "code",
   "execution_count": 12,
   "id": "a695ce53",
   "metadata": {},
   "outputs": [],
   "source": [
    "nlp.vocab['beyond'].is_stop = False"
   ]
  },
  {
   "cell_type": "code",
   "execution_count": 13,
   "id": "43aec893",
   "metadata": {},
   "outputs": [
    {
     "data": {
      "text/plain": [
       "False"
      ]
     },
     "execution_count": 13,
     "metadata": {},
     "output_type": "execute_result"
    }
   ],
   "source": [
    "nlp.vocab['beyond'].is_stop "
   ]
  },
  {
   "cell_type": "code",
   "execution_count": null,
   "id": "216100f9",
   "metadata": {},
   "outputs": [],
   "source": []
  }
 ],
 "metadata": {
  "kernelspec": {
   "display_name": "Python 3 (ipykernel)",
   "language": "python",
   "name": "python3"
  },
  "language_info": {
   "codemirror_mode": {
    "name": "ipython",
    "version": 3
   },
   "file_extension": ".py",
   "mimetype": "text/x-python",
   "name": "python",
   "nbconvert_exporter": "python",
   "pygments_lexer": "ipython3",
   "version": "3.8.10"
  },
  "toc": {
   "base_numbering": 1,
   "nav_menu": {},
   "number_sections": true,
   "sideBar": true,
   "skip_h1_title": false,
   "title_cell": "Table of Contents",
   "title_sidebar": "Contents",
   "toc_cell": false,
   "toc_position": {},
   "toc_section_display": true,
   "toc_window_display": false
  }
 },
 "nbformat": 4,
 "nbformat_minor": 5
}
